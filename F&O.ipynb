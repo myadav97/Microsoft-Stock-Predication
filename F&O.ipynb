{
  "nbformat": 4,
  "nbformat_minor": 0,
  "metadata": {
    "colab": {
      "provenance": [],
      "authorship_tag": "ABX9TyMHP5i5U3xwqxBxBHfTbwiL",
      "include_colab_link": true
    },
    "kernelspec": {
      "name": "python3",
      "display_name": "Python 3"
    },
    "language_info": {
      "name": "python"
    }
  },
  "cells": [
    {
      "cell_type": "markdown",
      "metadata": {
        "id": "view-in-github",
        "colab_type": "text"
      },
      "source": [
        "<a href=\"https://colab.research.google.com/github/myadav97/Microsoft-Stock-Predication/blob/main/F%26O.ipynb\" target=\"_parent\"><img src=\"https://colab.research.google.com/assets/colab-badge.svg\" alt=\"Open In Colab\"/></a>"
      ]
    },
    {
      "cell_type": "code",
      "execution_count": null,
      "metadata": {
        "id": "i9tvJHC6AB7v"
      },
      "outputs": [],
      "source": []
    },
    {
      "cell_type": "markdown",
      "source": [
        "## Step 1: Importing the Libraries"
      ],
      "metadata": {
        "id": "I2-DCFRJHg7-"
      }
    },
    {
      "cell_type": "code",
      "source": [
        "#Importing the Libraries\n",
        "import pandas as pd\n",
        "import numpy as np\n",
        "%matplotlib inline\n",
        "import matplotlib. pyplot as plt\n",
        "import matplotlib\n",
        "from sklearn.preprocessing import MinMaxScaler\n",
        "from keras.layers import LSTM, Dense, Dropout\n",
        "from sklearn.model_selection import TimeSeriesSplit\n",
        "from sklearn.metrics import mean_squared_error, r2_score\n",
        "import matplotlib. dates as mandates\n",
        "from sklearn.preprocessing import MinMaxScaler\n",
        "from sklearn import linear_model\n",
        "from keras.models import Sequential\n",
        "from keras.layers import Dense\n",
        "import keras.backend as K\n",
        "from keras.callbacks import EarlyStopping\n",
        "from keras.optimizers import Adam\n",
        "from keras.models import load_model\n",
        "from keras.layers import LSTM\n",
        "from keras.utils.vis_utils import plot_model"
      ],
      "metadata": {
        "id": "L-j7GAyPHlxl"
      },
      "execution_count": 8,
      "outputs": []
    },
    {
      "cell_type": "markdown",
      "source": [
        "##Step 2: Getting to Visualising the Stock Market Prediction Data"
      ],
      "metadata": {
        "id": "c_eCxYHmIdCC"
      }
    },
    {
      "cell_type": "code",
      "source": [
        "#Get the Dataset\n",
        "df=pd.read_csv(\"/content/microsoft_data.csv\",na_values=['null'],index_col='Date',parse_dates=True,infer_datetime_format=True)\n",
        "df.head()"
      ],
      "metadata": {
        "colab": {
          "base_uri": "https://localhost:8080/",
          "height": 238
        },
        "id": "xmbPn7feHtPY",
        "outputId": "733ddaa7-9488-423e-87ed-8dcdd9d4ee34"
      },
      "execution_count": 9,
      "outputs": [
        {
          "output_type": "execute_result",
          "data": {
            "text/plain": [
              "                Open      High       Low     Close  Adj Close      Volume\n",
              "Date                                                                     \n",
              "1986-03-13  0.088542  0.101563  0.088542  0.097222   0.061434  1031788800\n",
              "1986-03-14  0.097222  0.102431  0.097222  0.100694   0.063628   308160000\n",
              "1986-03-17  0.100694  0.103299  0.100694  0.102431   0.064725   133171200\n",
              "1986-03-18  0.102431  0.103299  0.098958  0.099826   0.063079    67766400\n",
              "1986-03-19  0.099826  0.100694  0.097222  0.098090   0.061982    47894400"
            ],
            "text/html": [
              "\n",
              "  <div id=\"df-632a92d2-1900-404d-95ca-feabee973244\" class=\"colab-df-container\">\n",
              "    <div>\n",
              "<style scoped>\n",
              "    .dataframe tbody tr th:only-of-type {\n",
              "        vertical-align: middle;\n",
              "    }\n",
              "\n",
              "    .dataframe tbody tr th {\n",
              "        vertical-align: top;\n",
              "    }\n",
              "\n",
              "    .dataframe thead th {\n",
              "        text-align: right;\n",
              "    }\n",
              "</style>\n",
              "<table border=\"1\" class=\"dataframe\">\n",
              "  <thead>\n",
              "    <tr style=\"text-align: right;\">\n",
              "      <th></th>\n",
              "      <th>Open</th>\n",
              "      <th>High</th>\n",
              "      <th>Low</th>\n",
              "      <th>Close</th>\n",
              "      <th>Adj Close</th>\n",
              "      <th>Volume</th>\n",
              "    </tr>\n",
              "    <tr>\n",
              "      <th>Date</th>\n",
              "      <th></th>\n",
              "      <th></th>\n",
              "      <th></th>\n",
              "      <th></th>\n",
              "      <th></th>\n",
              "      <th></th>\n",
              "    </tr>\n",
              "  </thead>\n",
              "  <tbody>\n",
              "    <tr>\n",
              "      <th>1986-03-13</th>\n",
              "      <td>0.088542</td>\n",
              "      <td>0.101563</td>\n",
              "      <td>0.088542</td>\n",
              "      <td>0.097222</td>\n",
              "      <td>0.061434</td>\n",
              "      <td>1031788800</td>\n",
              "    </tr>\n",
              "    <tr>\n",
              "      <th>1986-03-14</th>\n",
              "      <td>0.097222</td>\n",
              "      <td>0.102431</td>\n",
              "      <td>0.097222</td>\n",
              "      <td>0.100694</td>\n",
              "      <td>0.063628</td>\n",
              "      <td>308160000</td>\n",
              "    </tr>\n",
              "    <tr>\n",
              "      <th>1986-03-17</th>\n",
              "      <td>0.100694</td>\n",
              "      <td>0.103299</td>\n",
              "      <td>0.100694</td>\n",
              "      <td>0.102431</td>\n",
              "      <td>0.064725</td>\n",
              "      <td>133171200</td>\n",
              "    </tr>\n",
              "    <tr>\n",
              "      <th>1986-03-18</th>\n",
              "      <td>0.102431</td>\n",
              "      <td>0.103299</td>\n",
              "      <td>0.098958</td>\n",
              "      <td>0.099826</td>\n",
              "      <td>0.063079</td>\n",
              "      <td>67766400</td>\n",
              "    </tr>\n",
              "    <tr>\n",
              "      <th>1986-03-19</th>\n",
              "      <td>0.099826</td>\n",
              "      <td>0.100694</td>\n",
              "      <td>0.097222</td>\n",
              "      <td>0.098090</td>\n",
              "      <td>0.061982</td>\n",
              "      <td>47894400</td>\n",
              "    </tr>\n",
              "  </tbody>\n",
              "</table>\n",
              "</div>\n",
              "    <div class=\"colab-df-buttons\">\n",
              "\n",
              "  <div class=\"colab-df-container\">\n",
              "    <button class=\"colab-df-convert\" onclick=\"convertToInteractive('df-632a92d2-1900-404d-95ca-feabee973244')\"\n",
              "            title=\"Convert this dataframe to an interactive table.\"\n",
              "            style=\"display:none;\">\n",
              "\n",
              "  <svg xmlns=\"http://www.w3.org/2000/svg\" height=\"24px\" viewBox=\"0 -960 960 960\">\n",
              "    <path d=\"M120-120v-720h720v720H120Zm60-500h600v-160H180v160Zm220 220h160v-160H400v160Zm0 220h160v-160H400v160ZM180-400h160v-160H180v160Zm440 0h160v-160H620v160ZM180-180h160v-160H180v160Zm440 0h160v-160H620v160Z\"/>\n",
              "  </svg>\n",
              "    </button>\n",
              "\n",
              "  <style>\n",
              "    .colab-df-container {\n",
              "      display:flex;\n",
              "      gap: 12px;\n",
              "    }\n",
              "\n",
              "    .colab-df-convert {\n",
              "      background-color: #E8F0FE;\n",
              "      border: none;\n",
              "      border-radius: 50%;\n",
              "      cursor: pointer;\n",
              "      display: none;\n",
              "      fill: #1967D2;\n",
              "      height: 32px;\n",
              "      padding: 0 0 0 0;\n",
              "      width: 32px;\n",
              "    }\n",
              "\n",
              "    .colab-df-convert:hover {\n",
              "      background-color: #E2EBFA;\n",
              "      box-shadow: 0px 1px 2px rgba(60, 64, 67, 0.3), 0px 1px 3px 1px rgba(60, 64, 67, 0.15);\n",
              "      fill: #174EA6;\n",
              "    }\n",
              "\n",
              "    .colab-df-buttons div {\n",
              "      margin-bottom: 4px;\n",
              "    }\n",
              "\n",
              "    [theme=dark] .colab-df-convert {\n",
              "      background-color: #3B4455;\n",
              "      fill: #D2E3FC;\n",
              "    }\n",
              "\n",
              "    [theme=dark] .colab-df-convert:hover {\n",
              "      background-color: #434B5C;\n",
              "      box-shadow: 0px 1px 3px 1px rgba(0, 0, 0, 0.15);\n",
              "      filter: drop-shadow(0px 1px 2px rgba(0, 0, 0, 0.3));\n",
              "      fill: #FFFFFF;\n",
              "    }\n",
              "  </style>\n",
              "\n",
              "    <script>\n",
              "      const buttonEl =\n",
              "        document.querySelector('#df-632a92d2-1900-404d-95ca-feabee973244 button.colab-df-convert');\n",
              "      buttonEl.style.display =\n",
              "        google.colab.kernel.accessAllowed ? 'block' : 'none';\n",
              "\n",
              "      async function convertToInteractive(key) {\n",
              "        const element = document.querySelector('#df-632a92d2-1900-404d-95ca-feabee973244');\n",
              "        const dataTable =\n",
              "          await google.colab.kernel.invokeFunction('convertToInteractive',\n",
              "                                                    [key], {});\n",
              "        if (!dataTable) return;\n",
              "\n",
              "        const docLinkHtml = 'Like what you see? Visit the ' +\n",
              "          '<a target=\"_blank\" href=https://colab.research.google.com/notebooks/data_table.ipynb>data table notebook</a>'\n",
              "          + ' to learn more about interactive tables.';\n",
              "        element.innerHTML = '';\n",
              "        dataTable['output_type'] = 'display_data';\n",
              "        await google.colab.output.renderOutput(dataTable, element);\n",
              "        const docLink = document.createElement('div');\n",
              "        docLink.innerHTML = docLinkHtml;\n",
              "        element.appendChild(docLink);\n",
              "      }\n",
              "    </script>\n",
              "  </div>\n",
              "\n",
              "\n",
              "<div id=\"df-dbe5fdd8-1b53-474f-b1cc-988c6f5a9c9c\">\n",
              "  <button class=\"colab-df-quickchart\" onclick=\"quickchart('df-dbe5fdd8-1b53-474f-b1cc-988c6f5a9c9c')\"\n",
              "            title=\"Suggest charts.\"\n",
              "            style=\"display:none;\">\n",
              "\n",
              "<svg xmlns=\"http://www.w3.org/2000/svg\" height=\"24px\"viewBox=\"0 0 24 24\"\n",
              "     width=\"24px\">\n",
              "    <g>\n",
              "        <path d=\"M19 3H5c-1.1 0-2 .9-2 2v14c0 1.1.9 2 2 2h14c1.1 0 2-.9 2-2V5c0-1.1-.9-2-2-2zM9 17H7v-7h2v7zm4 0h-2V7h2v10zm4 0h-2v-4h2v4z\"/>\n",
              "    </g>\n",
              "</svg>\n",
              "  </button>\n",
              "\n",
              "<style>\n",
              "  .colab-df-quickchart {\n",
              "    background-color: #E8F0FE;\n",
              "    border: none;\n",
              "    border-radius: 50%;\n",
              "    cursor: pointer;\n",
              "    display: none;\n",
              "    fill: #1967D2;\n",
              "    height: 32px;\n",
              "    padding: 0 0 0 0;\n",
              "    width: 32px;\n",
              "  }\n",
              "\n",
              "  .colab-df-quickchart:hover {\n",
              "    background-color: #E2EBFA;\n",
              "    box-shadow: 0px 1px 2px rgba(60, 64, 67, 0.3), 0px 1px 3px 1px rgba(60, 64, 67, 0.15);\n",
              "    fill: #174EA6;\n",
              "  }\n",
              "\n",
              "  [theme=dark] .colab-df-quickchart {\n",
              "    background-color: #3B4455;\n",
              "    fill: #D2E3FC;\n",
              "  }\n",
              "\n",
              "  [theme=dark] .colab-df-quickchart:hover {\n",
              "    background-color: #434B5C;\n",
              "    box-shadow: 0px 1px 3px 1px rgba(0, 0, 0, 0.15);\n",
              "    filter: drop-shadow(0px 1px 2px rgba(0, 0, 0, 0.3));\n",
              "    fill: #FFFFFF;\n",
              "  }\n",
              "</style>\n",
              "\n",
              "  <script>\n",
              "    async function quickchart(key) {\n",
              "      const charts = await google.colab.kernel.invokeFunction(\n",
              "          'suggestCharts', [key], {});\n",
              "    }\n",
              "    (() => {\n",
              "      let quickchartButtonEl =\n",
              "        document.querySelector('#df-dbe5fdd8-1b53-474f-b1cc-988c6f5a9c9c button');\n",
              "      quickchartButtonEl.style.display =\n",
              "        google.colab.kernel.accessAllowed ? 'block' : 'none';\n",
              "    })();\n",
              "  </script>\n",
              "</div>\n",
              "    </div>\n",
              "  </div>\n"
            ]
          },
          "metadata": {},
          "execution_count": 9
        }
      ]
    },
    {
      "cell_type": "markdown",
      "source": [
        "##Step 3: Checking for Null Values by Printing the DataFrame Shape"
      ],
      "metadata": {
        "id": "k9oK6g9xJzJe"
      }
    },
    {
      "cell_type": "code",
      "source": [
        "#Print the shape of Dataframe  and Check for Null Values\n",
        "print(\"Dataframe Shape: \", df. shape)\n",
        "print(\"Null Value Present: \", df.isnull().values.any())\n",
        "\n",
        "# Output:\n",
        "# Dataframe Shape: (9083, 6)\n",
        "#Null Value Present: False"
      ],
      "metadata": {
        "colab": {
          "base_uri": "https://localhost:8080/"
        },
        "id": "5rw618o5J1J8",
        "outputId": "49248d7f-3ef9-4873-f478-38f1d8330089"
      },
      "execution_count": 14,
      "outputs": [
        {
          "output_type": "stream",
          "name": "stdout",
          "text": [
            "Dataframe Shape:  (9083, 6)\n",
            "Null Value Present:  False\n"
          ]
        }
      ]
    },
    {
      "cell_type": "markdown",
      "source": [
        "##Step 4: Plotting the True Adjusted Close Value"
      ],
      "metadata": {
        "id": "_L7PCUhBKZ9b"
      }
    },
    {
      "cell_type": "code",
      "source": [
        "#Plot the True Adj Close Value\n",
        "df['Adj Close'].plot()"
      ],
      "metadata": {
        "colab": {
          "base_uri": "https://localhost:8080/",
          "height": 440
        },
        "id": "ruXw7xZCJ-hu",
        "outputId": "9a93d15e-e51f-44c3-a578-514ff76227b5"
      },
      "execution_count": 15,
      "outputs": [
        {
          "output_type": "execute_result",
          "data": {
            "text/plain": [
              "<Axes: xlabel='Date'>"
            ]
          },
          "metadata": {},
          "execution_count": 15
        },
        {
          "output_type": "display_data",
          "data": {
            "text/plain": [
              "<Figure size 640x480 with 1 Axes>"
            ],
            "image/png": "[encoded data removed]"
          },
          "metadata": {}
        }
      ]
    },
    {
      "cell_type": "markdown",
      "source": [
        "##Step 5: Setting the Target Variable and Selecting the Features\n",
        "\n",
        "The output column is then assigned to the target variable in the following step. It is the adjusted relative value of Microsoft Stock in this situation. Furthermore, we pick the features that serve as the independent variable to the target variable (dependent variable). We choose four characteristics to account for training purposes:\n",
        "\n",
        "- Open\n",
        "- High\n",
        "- Low\n",
        "- Volume"
      ],
      "metadata": {
        "id": "VnwuqmcPKmdX"
      }
    },
    {
      "cell_type": "code",
      "source": [
        "#Set Target Variable\n",
        "output_var = pd.DataFrame(df['Adj Close'])\n",
        "#Selecting the Features\n",
        "features = ['Open', 'High', 'Low', 'Volume']"
      ],
      "metadata": {
        "id": "AEV3_EdsKgo7"
      },
      "execution_count": 16,
      "outputs": []
    },
    {
      "cell_type": "markdown",
      "source": [
        "##Step 6: Scaling\n",
        "\n",
        "To decrease the computational cost of the data in the table, we will scale the stock values to values between 0 and 1. As a result, all of the data in large numbers is reduced, and therefore memory consumption is decreased. Also, because the data is not spread out in huge values, we can achieve greater precision by scaling down. To perform this, we will be using the MinMaxScaler class of the sci-kit-learn library."
      ],
      "metadata": {
        "id": "fBINAE0kLEAs"
      }
    },
    {
      "cell_type": "code",
      "source": [
        "#Scaling\n",
        "scaler = MinMaxScaler()\n",
        "feature_transform = scaler.fit_transform(df[features])\n",
        "feature_transform= pd.DataFrame(columns=features, data=feature_transform, index=df.index)\n",
        "feature_transform.head()"
      ],
      "metadata": {
        "colab": {
          "base_uri": "https://localhost:8080/",
          "height": 246
        },
        "id": "ySaTR323K-4M",
        "outputId": "26096acc-8de7-4079-e2f3-9f3400f1ca05"
      },
      "execution_count": 17,
      "outputs": [
        {
          "output_type": "execute_result",
          "data": {
            "text/plain": [
              "                Open      High       Low    Volume\n",
              "Date                                              \n",
              "1986-03-13  0.000000  0.000027  0.000000  1.000000\n",
              "1986-03-14  0.000025  0.000030  0.000025  0.297096\n",
              "1986-03-17  0.000035  0.000032  0.000036  0.127119\n",
              "1986-03-18  0.000040  0.000032  0.000030  0.063588\n",
              "1986-03-19  0.000033  0.000025  0.000025  0.044285"
            ],
            "text/html": [
              "\n",
              "  <div id=\"df-75359f5d-1d56-4493-978a-bd96fd0fd74d\" class=\"colab-df-container\">\n",
              "    <div>\n",
              "<style scoped>\n",
              "    .dataframe tbody tr th:only-of-type {\n",
              "        vertical-align: middle;\n",
              "    }\n",
              "\n",
              "    .dataframe tbody tr th {\n",
              "        vertical-align: top;\n",
              "    }\n",
              "\n",
              "    .dataframe thead th {\n",
              "        text-align: right;\n",
              "    }\n",
              "</style>\n",
              "<table border=\"1\" class=\"dataframe\">\n",
              "  <thead>\n",
              "    <tr style=\"text-align: right;\">\n",
              "      <th></th>\n",
              "      <th>Open</th>\n",
              "      <th>High</th>\n",
              "      <th>Low</th>\n",
              "      <th>Volume</th>\n",
              "    </tr>\n",
              "    <tr>\n",
              "      <th>Date</th>\n",
              "      <th></th>\n",
              "      <th></th>\n",
              "      <th></th>\n",
              "      <th></th>\n",
              "    </tr>\n",
              "  </thead>\n",
              "  <tbody>\n",
              "    <tr>\n",
              "      <th>1986-03-13</th>\n",
              "      <td>0.000000</td>\n",
              "      <td>0.000027</td>\n",
              "      <td>0.000000</td>\n",
              "      <td>1.000000</td>\n",
              "    </tr>\n",
              "    <tr>\n",
              "      <th>1986-03-14</th>\n",
              "      <td>0.000025</td>\n",
              "      <td>0.000030</td>\n",
              "      <td>0.000025</td>\n",
              "      <td>0.297096</td>\n",
              "    </tr>\n",
              "    <tr>\n",
              "      <th>1986-03-17</th>\n",
              "      <td>0.000035</td>\n",
              "      <td>0.000032</td>\n",
              "      <td>0.000036</td>\n",
              "      <td>0.127119</td>\n",
              "    </tr>\n",
              "    <tr>\n",
              "      <th>1986-03-18</th>\n",
              "      <td>0.000040</td>\n",
              "      <td>0.000032</td>\n",
              "      <td>0.000030</td>\n",
              "      <td>0.063588</td>\n",
              "    </tr>\n",
              "    <tr>\n",
              "      <th>1986-03-19</th>\n",
              "      <td>0.000033</td>\n",
              "      <td>0.000025</td>\n",
              "      <td>0.000025</td>\n",
              "      <td>0.044285</td>\n",
              "    </tr>\n",
              "  </tbody>\n",
              "</table>\n",
              "</div>\n",
              "    <div class=\"colab-df-buttons\">\n",
              "\n",
              "  <div class=\"colab-df-container\">\n",
              "    <button class=\"colab-df-convert\" onclick=\"convertToInteractive('df-75359f5d-1d56-4493-978a-bd96fd0fd74d')\"\n",
              "            title=\"Convert this dataframe to an interactive table.\"\n",
              "            style=\"display:none;\">\n",
              "\n",
              "  <svg xmlns=\"http://www.w3.org/2000/svg\" height=\"24px\" viewBox=\"0 -960 960 960\">\n",
              "    <path d=\"M120-120v-720h720v720H120Zm60-500h600v-160H180v160Zm220 220h160v-160H400v160Zm0 220h160v-160H400v160ZM180-400h160v-160H180v160Zm440 0h160v-160H620v160ZM180-180h160v-160H180v160Zm440 0h160v-160H620v160Z\"/>\n",
              "  </svg>\n",
              "    </button>\n",
              "\n",
              "  <style>\n",
              "    .colab-df-container {\n",
              "      display:flex;\n",
              "      gap: 12px;\n",
              "    }\n",
              "\n",
              "    .colab-df-convert {\n",
              "      background-color: #E8F0FE;\n",
              "      border: none;\n",
              "      border-radius: 50%;\n",
              "      cursor: pointer;\n",
              "      display: none;\n",
              "      fill: #1967D2;\n",
              "      height: 32px;\n",
              "      padding: 0 0 0 0;\n",
              "      width: 32px;\n",
              "    }\n",
              "\n",
              "    .colab-df-convert:hover {\n",
              "      background-color: #E2EBFA;\n",
              "      box-shadow: 0px 1px 2px rgba(60, 64, 67, 0.3), 0px 1px 3px 1px rgba(60, 64, 67, 0.15);\n",
              "      fill: #174EA6;\n",
              "    }\n",
              "\n",
              "    .colab-df-buttons div {\n",
              "      margin-bottom: 4px;\n",
              "    }\n",
              "\n",
              "    [theme=dark] .colab-df-convert {\n",
              "      background-color: #3B4455;\n",
              "      fill: #D2E3FC;\n",
              "    }\n",
              "\n",
              "    [theme=dark] .colab-df-convert:hover {\n",
              "      background-color: #434B5C;\n",
              "      box-shadow: 0px 1px 3px 1px rgba(0, 0, 0, 0.15);\n",
              "      filter: drop-shadow(0px 1px 2px rgba(0, 0, 0, 0.3));\n",
              "      fill: #FFFFFF;\n",
              "    }\n",
              "  </style>\n",
              "\n",
              "    <script>\n",
              "      const buttonEl =\n",
              "        document.querySelector('#df-75359f5d-1d56-4493-978a-bd96fd0fd74d button.colab-df-convert');\n",
              "      buttonEl.style.display =\n",
              "        google.colab.kernel.accessAllowed ? 'block' : 'none';\n",
              "\n",
              "      async function convertToInteractive(key) {\n",
              "        const element = document.querySelector('#df-75359f5d-1d56-4493-978a-bd96fd0fd74d');\n",
              "        const dataTable =\n",
              "          await google.colab.kernel.invokeFunction('convertToInteractive',\n",
              "                                                    [key], {});\n",
              "        if (!dataTable) return;\n",
              "\n",
              "        const docLinkHtml = 'Like what you see? Visit the ' +\n",
              "          '<a target=\"_blank\" href=https://colab.research.google.com/notebooks/data_table.ipynb>data table notebook</a>'\n",
              "          + ' to learn more about interactive tables.';\n",
              "        element.innerHTML = '';\n",
              "        dataTable['output_type'] = 'display_data';\n",
              "        await google.colab.output.renderOutput(dataTable, element);\n",
              "        const docLink = document.createElement('div');\n",
              "        docLink.innerHTML = docLinkHtml;\n",
              "        element.appendChild(docLink);\n",
              "      }\n",
              "    </script>\n",
              "  </div>\n",
              "\n",
              "\n",
              "<div id=\"df-d99e945b-e10a-4379-b780-99e1da7c4c6c\">\n",
              "  <button class=\"colab-df-quickchart\" onclick=\"quickchart('df-d99e945b-e10a-4379-b780-99e1da7c4c6c')\"\n",
              "            title=\"Suggest charts.\"\n",
              "            style=\"display:none;\">\n",
              "\n",
              "<svg xmlns=\"http://www.w3.org/2000/svg\" height=\"24px\"viewBox=\"0 0 24 24\"\n",
              "     width=\"24px\">\n",
              "    <g>\n",
              "        <path d=\"M19 3H5c-1.1 0-2 .9-2 2v14c0 1.1.9 2 2 2h14c1.1 0 2-.9 2-2V5c0-1.1-.9-2-2-2zM9 17H7v-7h2v7zm4 0h-2V7h2v10zm4 0h-2v-4h2v4z\"/>\n",
              "    </g>\n",
              "</svg>\n",
              "  </button>\n",
              "\n",
              "<style>\n",
              "  .colab-df-quickchart {\n",
              "    background-color: #E8F0FE;\n",
              "    border: none;\n",
              "    border-radius: 50%;\n",
              "    cursor: pointer;\n",
              "    display: none;\n",
              "    fill: #1967D2;\n",
              "    height: 32px;\n",
              "    padding: 0 0 0 0;\n",
              "    width: 32px;\n",
              "  }\n",
              "\n",
              "  .colab-df-quickchart:hover {\n",
              "    background-color: #E2EBFA;\n",
              "    box-shadow: 0px 1px 2px rgba(60, 64, 67, 0.3), 0px 1px 3px 1px rgba(60, 64, 67, 0.15);\n",
              "    fill: #174EA6;\n",
              "  }\n",
              "\n",
              "  [theme=dark] .colab-df-quickchart {\n",
              "    background-color: #3B4455;\n",
              "    fill: #D2E3FC;\n",
              "  }\n",
              "\n",
              "  [theme=dark] .colab-df-quickchart:hover {\n",
              "    background-color: #434B5C;\n",
              "    box-shadow: 0px 1px 3px 1px rgba(0, 0, 0, 0.15);\n",
              "    filter: drop-shadow(0px 1px 2px rgba(0, 0, 0, 0.3));\n",
              "    fill: #FFFFFF;\n",
              "  }\n",
              "</style>\n",
              "\n",
              "  <script>\n",
              "    async function quickchart(key) {\n",
              "      const charts = await google.colab.kernel.invokeFunction(\n",
              "          'suggestCharts', [key], {});\n",
              "    }\n",
              "    (() => {\n",
              "      let quickchartButtonEl =\n",
              "        document.querySelector('#df-d99e945b-e10a-4379-b780-99e1da7c4c6c button');\n",
              "      quickchartButtonEl.style.display =\n",
              "        google.colab.kernel.accessAllowed ? 'block' : 'none';\n",
              "    })();\n",
              "  </script>\n",
              "</div>\n",
              "    </div>\n",
              "  </div>\n"
            ]
          },
          "metadata": {},
          "execution_count": 17
        }
      ]
    },
    {
      "cell_type": "markdown",
      "source": [
        "As shown in the above table, the values of the feature variables are scaled down to lower values when compared to the real values given above."
      ],
      "metadata": {
        "id": "v6QRQ7yiL7AU"
      }
    },
    {
      "cell_type": "markdown",
      "source": [
        "##Step 7: Creating a Training Set and a Test Set for Stock Market Prediction\n",
        "\n",
        "We must divide the entire dataset into training and test sets before feeding it into the training model. The Machine Learning LSTM model will be trained on the data in the training set and tested for accuracy and backpropagation on the test set.\n",
        "\n",
        "The sci-kit-learn library’s TimeSeriesSplit class will be used for this. We set the number of splits to 10, indicating that 10% of the data will be used as the test set and 90% of the data will be used to train the LSTM model. The advantage of utilizing this Time Series split is that the split time series data samples are examined at regular time intervals."
      ],
      "metadata": {
        "id": "VbuOeMhfL-0K"
      }
    },
    {
      "cell_type": "code",
      "source": [
        "#Splitting to Training set and Test set\n",
        "timesplit= TimeSeriesSplit(n_splits=10)\n",
        "for train_index, test_index in timesplit.split(feature_transform):\n",
        "        X_train, X_test = feature_transform[:len(train_index)], feature_transform[len(train_index): (len(train_index)+len(test_index))]\n",
        "        y_train, y_test = output_var[:len(train_index)].values.ravel(), output_var[len(train_index): (len(train_index)+len(test_index))].values.ravel()"
      ],
      "metadata": {
        "id": "RSiqr6-1LTjC"
      },
      "execution_count": 18,
      "outputs": []
    },
    {
      "cell_type": "markdown",
      "source": [
        "##Step 8: Data Processing For LSTM\n",
        "Once the training and test sets are finalized, we will input the data into the LSTM model. Before we can do that, we must transform the training and test set data into a format that the LSTM model can interpret. As the LSTM needs that the data to be provided in the 3D form, we first transform the training and test data to NumPy arrays and then restructure them to match the format (Number of Samples, 1, Number of Features). Now, 6667 are the number of samples in the training set, which is 90% of 7334, and the number of features is 4. Therefore, the training set is reshaped to reflect this (6667, 1, 4). Likewise, the test set is reshaped."
      ],
      "metadata": {
        "id": "iYqooniJN4iQ"
      }
    },
    {
      "cell_type": "code",
      "source": [
        "#Process the data for LSTM\n",
        "trainX =np.array(X_train)\n",
        "testX =np.array(X_test)\n",
        "X_train = trainX.reshape(X_train.shape[0], 1, X_train.shape[1])\n",
        "X_test = testX.reshape(X_test.shape[0], 1, X_test.shape[1])"
      ],
      "metadata": {
        "id": "JB92jbn-NraL"
      },
      "execution_count": 19,
      "outputs": []
    },
    {
      "cell_type": "markdown",
      "source": [
        "##Step 9: Building the LSTM Model for Stock Market Prediction\n",
        "Finally, we arrive at the point when we construct the LSTM Model. In this step, we’ll build a Sequential Keras model with one LSTM layer. The LSTM layer has 32 units and is followed by one Dense Layer of one neuron.\n",
        "\n",
        "We compile the model using Adam Optimizer and the Mean Squared Error as the loss function. For an LSTM model, this is the most preferred combination. The model is plotted and presented below."
      ],
      "metadata": {
        "id": "GfBqFvrwOFQY"
      }
    },
    {
      "cell_type": "code",
      "source": [
        "#Building the LSTM Model\n",
        "lstm = Sequential()\n",
        "lstm.add(LSTM(32, input_shape=(1, trainX.shape[1]), activation='relu', return_sequences=False))\n",
        "lstm.add(Dense(1))\n",
        "lstm.compile(loss='mean_squared_error', optimizer='adam')\n",
        "plot_model(lstm, show_shapes=True, show_layer_names=True)\n"
      ],
      "metadata": {
        "colab": {
          "base_uri": "https://localhost:8080/",
          "height": 312
        },
        "id": "kfA2AEutOBZH",
        "outputId": "68a81970-e585-4e27-9bda-2b4fe3b958d7"
      },
      "execution_count": 21,
      "outputs": [
        {
          "output_type": "execute_result",
          "data": {
            "image/png": "[encoded data removed]",
            "text/plain": [
              "<IPython.core.display.Image object>"
            ]
          },
          "metadata": {},
          "execution_count": 21
        }
      ]
    },
    {
      "cell_type": "markdown",
      "source": [
        "##Step 10: Training the Stock Market Prediction Model\n",
        "Finally, we use the fit function to train the LSTM model created above on the training data for 100 epochs with a batch size of 8."
      ],
      "metadata": {
        "id": "PHbGeOi-OdNn"
      }
    },
    {
      "cell_type": "code",
      "source": [
        "history=lstm.fit(X_train, y_train, epochs=200, batch_size=8, verbose=1, shuffle=False)"
      ],
      "metadata": {
        "colab": {
          "base_uri": "https://localhost:8080/"
        },
        "id": "zbnrpQ4POLVs",
        "outputId": "612d3bae-7df7-42bc-9329-b00f6ad0f0ba"
      },
      "execution_count": 23,
      "outputs": [
        {
          "output_type": "stream",
          "name": "stdout",
          "text": [
            "Epoch 1/200\n",
            "1033/1033 [==============================] - 4s 3ms/step - loss: 0.8383\n",
            "Epoch 2/200\n",
            "1033/1033 [==============================] - 3s 3ms/step - loss: 0.8385\n",
            "Epoch 3/200\n",
            "1033/1033 [==============================] - 3s 3ms/step - loss: 0.8387\n",
            "Epoch 4/200\n",
            "1033/1033 [==============================] - 3s 3ms/step - loss: 0.8390\n",
            "Epoch 5/200\n",
            "1033/1033 [==============================] - 3s 3ms/step - loss: 0.8392\n",
            "Epoch 6/200\n",
            "1033/1033 [==============================] - 3s 3ms/step - loss: 0.8394\n",
            "Epoch 7/200\n",
            "1033/1033 [==============================] - 3s 3ms/step - loss: 0.8396\n",
            "Epoch 8/200\n",
            "1033/1033 [==============================] - 3s 3ms/step - loss: 0.8399\n",
            "Epoch 9/200\n",
            "1033/1033 [==============================] - 3s 3ms/step - loss: 0.8401\n",
            "Epoch 10/200\n",
            "1033/1033 [==============================] - 4s 4ms/step - loss: 0.8404\n",
            "Epoch 11/200\n",
            "1033/1033 [==============================] - 3s 3ms/step - loss: 0.8406\n",
            "Epoch 12/200\n",
            "1033/1033 [==============================] - 3s 3ms/step - loss: 0.8409\n",
            "Epoch 13/200\n",
            "1033/1033 [==============================] - 4s 3ms/step - loss: 0.8411\n",
            "Epoch 14/200\n",
            "1033/1033 [==============================] - 4s 3ms/step - loss: 0.8413\n",
            "Epoch 15/200\n",
            "1033/1033 [==============================] - 3s 3ms/step - loss: 0.8415\n",
            "Epoch 16/200\n",
            "1033/1033 [==============================] - 3s 3ms/step - loss: 0.8418\n",
            "Epoch 17/200\n",
            "1033/1033 [==============================] - 4s 4ms/step - loss: 0.8420\n",
            "Epoch 18/200\n",
            "1033/1033 [==============================] - 3s 3ms/step - loss: 0.8422\n",
            "Epoch 19/200\n",
            "1033/1033 [==============================] - 3s 3ms/step - loss: 0.8424\n",
            "Epoch 20/200\n",
            "1033/1033 [==============================] - 3s 3ms/step - loss: 0.8426\n",
            "Epoch 21/200\n",
            "1033/1033 [==============================] - 4s 4ms/step - loss: 0.8428\n",
            "Epoch 22/200\n",
            "1033/1033 [==============================] - 3s 3ms/step - loss: 0.8430\n",
            "Epoch 23/200\n",
            "1033/1033 [==============================] - 3s 3ms/step - loss: 0.8431\n",
            "Epoch 24/200\n",
            "1033/1033 [==============================] - 3s 3ms/step - loss: 0.8433\n",
            "Epoch 25/200\n",
            "1033/1033 [==============================] - 4s 4ms/step - loss: 0.8435\n",
            "Epoch 26/200\n",
            "1033/1033 [==============================] - 3s 3ms/step - loss: 0.8436\n",
            "Epoch 27/200\n",
            "1033/1033 [==============================] - 3s 3ms/step - loss: 0.8438\n",
            "Epoch 28/200\n",
            "1033/1033 [==============================] - 4s 4ms/step - loss: 0.8440\n",
            "Epoch 29/200\n",
            "1033/1033 [==============================] - 5s 4ms/step - loss: 0.8442\n",
            "Epoch 30/200\n",
            "1033/1033 [==============================] - 3s 3ms/step - loss: 0.8444\n",
            "Epoch 31/200\n",
            "1033/1033 [==============================] - 3s 3ms/step - loss: 0.8446\n",
            "Epoch 32/200\n",
            "1033/1033 [==============================] - 3s 3ms/step - loss: 0.8447\n",
            "Epoch 33/200\n",
            "1033/1033 [==============================] - 3s 3ms/step - loss: 0.8449\n",
            "Epoch 34/200\n",
            "1033/1033 [==============================] - 3s 3ms/step - loss: 0.8451\n",
            "Epoch 35/200\n",
            "1033/1033 [==============================] - 3s 3ms/step - loss: 0.8454\n",
            "Epoch 36/200\n",
            "1033/1033 [==============================] - 4s 4ms/step - loss: 0.8457\n",
            "Epoch 37/200\n",
            "1033/1033 [==============================] - 3s 3ms/step - loss: 0.8460\n",
            "Epoch 38/200\n",
            "1033/1033 [==============================] - 3s 3ms/step - loss: 0.8463\n",
            "Epoch 39/200\n",
            "1033/1033 [==============================] - 3s 3ms/step - loss: 0.8466\n",
            "Epoch 40/200\n",
            "1033/1033 [==============================] - 4s 3ms/step - loss: 0.8470\n",
            "Epoch 41/200\n",
            "1033/1033 [==============================] - 3s 3ms/step - loss: 0.8473\n",
            "Epoch 42/200\n",
            "1033/1033 [==============================] - 3s 3ms/step - loss: 0.8476\n",
            "Epoch 43/200\n",
            "1033/1033 [==============================] - 3s 3ms/step - loss: 0.8480\n",
            "Epoch 44/200\n",
            "1033/1033 [==============================] - 4s 4ms/step - loss: 0.8483\n",
            "Epoch 45/200\n",
            "1033/1033 [==============================] - 3s 3ms/step - loss: 0.8486\n",
            "Epoch 46/200\n",
            "1033/1033 [==============================] - 3s 3ms/step - loss: 0.8489\n",
            "Epoch 47/200\n",
            "1033/1033 [==============================] - 3s 3ms/step - loss: 0.8491\n",
            "Epoch 48/200\n",
            "1033/1033 [==============================] - 4s 4ms/step - loss: 0.8493\n",
            "Epoch 49/200\n",
            "1033/1033 [==============================] - 3s 3ms/step - loss: 0.8494\n",
            "Epoch 50/200\n",
            "1033/1033 [==============================] - 3s 3ms/step - loss: 0.8496\n",
            "Epoch 51/200\n",
            "1033/1033 [==============================] - 3s 3ms/step - loss: 0.8498\n",
            "Epoch 52/200\n",
            "1033/1033 [==============================] - 4s 4ms/step - loss: 0.8499\n",
            "Epoch 53/200\n",
            "1033/1033 [==============================] - 3s 3ms/step - loss: 0.8501\n",
            "Epoch 54/200\n",
            "1033/1033 [==============================] - 3s 3ms/step - loss: 0.8503\n",
            "Epoch 55/200\n",
            "1033/1033 [==============================] - 3s 3ms/step - loss: 0.8505\n",
            "Epoch 56/200\n",
            "1033/1033 [==============================] - 4s 4ms/step - loss: 0.8508\n",
            "Epoch 57/200\n",
            "1033/1033 [==============================] - 3s 3ms/step - loss: 0.8510\n",
            "Epoch 58/200\n",
            "1033/1033 [==============================] - 3s 3ms/step - loss: 0.8512\n",
            "Epoch 59/200\n",
            "1033/1033 [==============================] - 3s 3ms/step - loss: 0.8515\n",
            "Epoch 60/200\n",
            "1033/1033 [==============================] - 4s 4ms/step - loss: 0.8517\n",
            "Epoch 61/200\n",
            "1033/1033 [==============================] - 3s 3ms/step - loss: 0.8520\n",
            "Epoch 62/200\n",
            "1033/1033 [==============================] - 3s 3ms/step - loss: 0.8522\n",
            "Epoch 63/200\n",
            "1033/1033 [==============================] - 3s 3ms/step - loss: 0.8524\n",
            "Epoch 64/200\n",
            "1033/1033 [==============================] - 4s 4ms/step - loss: 0.8526\n",
            "Epoch 65/200\n",
            "1033/1033 [==============================] - 3s 3ms/step - loss: 0.8528\n",
            "Epoch 66/200\n",
            "1033/1033 [==============================] - 3s 3ms/step - loss: 0.8530\n",
            "Epoch 67/200\n",
            "1033/1033 [==============================] - 3s 3ms/step - loss: 0.8532\n",
            "Epoch 68/200\n",
            "1033/1033 [==============================] - 4s 4ms/step - loss: 0.8534\n",
            "Epoch 69/200\n",
            "1033/1033 [==============================] - 3s 3ms/step - loss: 0.8536\n",
            "Epoch 70/200\n",
            "1033/1033 [==============================] - 3s 3ms/step - loss: 0.8538\n",
            "Epoch 71/200\n",
            "1033/1033 [==============================] - 4s 4ms/step - loss: 0.8540\n",
            "Epoch 72/200\n",
            "1033/1033 [==============================] - 4s 4ms/step - loss: 0.8542\n",
            "Epoch 73/200\n",
            "1033/1033 [==============================] - 3s 3ms/step - loss: 0.8544\n",
            "Epoch 74/200\n",
            "1033/1033 [==============================] - 3s 3ms/step - loss: 0.8545\n",
            "Epoch 75/200\n",
            "1033/1033 [==============================] - 4s 4ms/step - loss: 0.8547\n",
            "Epoch 76/200\n",
            "1033/1033 [==============================] - 3s 3ms/step - loss: 0.8548\n",
            "Epoch 77/200\n",
            "1033/1033 [==============================] - 3s 3ms/step - loss: 0.8549\n",
            "Epoch 78/200\n",
            "1033/1033 [==============================] - 3s 3ms/step - loss: 0.8549\n",
            "Epoch 79/200\n",
            "1033/1033 [==============================] - 4s 4ms/step - loss: 0.8550\n",
            "Epoch 80/200\n",
            "1033/1033 [==============================] - 3s 3ms/step - loss: 0.8551\n",
            "Epoch 81/200\n",
            "1033/1033 [==============================] - 3s 3ms/step - loss: 0.8552\n",
            "Epoch 82/200\n",
            "1033/1033 [==============================] - 3s 3ms/step - loss: 0.8552\n",
            "Epoch 83/200\n",
            "1033/1033 [==============================] - 4s 4ms/step - loss: 0.8553\n",
            "Epoch 84/200\n",
            "1033/1033 [==============================] - 3s 3ms/step - loss: 0.8553\n",
            "Epoch 85/200\n",
            "1033/1033 [==============================] - 3s 3ms/step - loss: 0.8553\n",
            "Epoch 86/200\n",
            "1033/1033 [==============================] - 3s 3ms/step - loss: 0.8553\n",
            "Epoch 87/200\n",
            "1033/1033 [==============================] - 4s 4ms/step - loss: 0.8553\n",
            "Epoch 88/200\n",
            "1033/1033 [==============================] - 3s 3ms/step - loss: 0.8553\n",
            "Epoch 89/200\n",
            "1033/1033 [==============================] - 3s 3ms/step - loss: 0.8553\n",
            "Epoch 90/200\n",
            "1033/1033 [==============================] - 4s 4ms/step - loss: 0.8552\n",
            "Epoch 91/200\n",
            "1033/1033 [==============================] - 4s 3ms/step - loss: 0.8550\n",
            "Epoch 92/200\n",
            "1033/1033 [==============================] - 3s 3ms/step - loss: 0.8549\n",
            "Epoch 93/200\n",
            "1033/1033 [==============================] - 3s 3ms/step - loss: 0.8547\n",
            "Epoch 94/200\n",
            "1033/1033 [==============================] - 4s 4ms/step - loss: 0.8545\n",
            "Epoch 95/200\n",
            "1033/1033 [==============================] - 3s 3ms/step - loss: 0.8543\n",
            "Epoch 96/200\n",
            "1033/1033 [==============================] - 3s 3ms/step - loss: 0.8542\n",
            "Epoch 97/200\n",
            "1033/1033 [==============================] - 3s 3ms/step - loss: 0.8541\n",
            "Epoch 98/200\n",
            "1033/1033 [==============================] - 4s 4ms/step - loss: 0.8540\n",
            "Epoch 99/200\n",
            "1033/1033 [==============================] - 3s 3ms/step - loss: 0.8539\n",
            "Epoch 100/200\n",
            "1033/1033 [==============================] - 3s 3ms/step - loss: 0.8538\n",
            "Epoch 101/200\n",
            "1033/1033 [==============================] - 4s 4ms/step - loss: 0.8537\n",
            "Epoch 102/200\n",
            "1033/1033 [==============================] - 4s 4ms/step - loss: 0.8536\n",
            "Epoch 103/200\n",
            "1033/1033 [==============================] - 3s 3ms/step - loss: 0.8535\n",
            "Epoch 104/200\n",
            "1033/1033 [==============================] - 3s 3ms/step - loss: 0.8535\n",
            "Epoch 105/200\n",
            "1033/1033 [==============================] - 4s 4ms/step - loss: 0.8535\n",
            "Epoch 106/200\n",
            "1033/1033 [==============================] - 4s 4ms/step - loss: 0.8536\n",
            "Epoch 107/200\n",
            "1033/1033 [==============================] - 3s 3ms/step - loss: 0.8536\n",
            "Epoch 108/200\n",
            "1033/1033 [==============================] - 3s 3ms/step - loss: 0.8537\n",
            "Epoch 109/200\n",
            "1033/1033 [==============================] - 4s 4ms/step - loss: 0.8538\n",
            "Epoch 110/200\n",
            "1033/1033 [==============================] - 3s 3ms/step - loss: 0.8540\n",
            "Epoch 111/200\n",
            "1033/1033 [==============================] - 3s 3ms/step - loss: 0.8541\n",
            "Epoch 112/200\n",
            "1033/1033 [==============================] - 3s 3ms/step - loss: 0.8542\n",
            "Epoch 113/200\n",
            "1033/1033 [==============================] - 4s 4ms/step - loss: 0.8543\n",
            "Epoch 114/200\n",
            "1033/1033 [==============================] - 3s 3ms/step - loss: 0.8545\n",
            "Epoch 115/200\n",
            "1033/1033 [==============================] - 3s 3ms/step - loss: 0.8546\n",
            "Epoch 116/200\n",
            "1033/1033 [==============================] - 3s 3ms/step - loss: 0.8547\n",
            "Epoch 117/200\n",
            "1033/1033 [==============================] - 4s 4ms/step - loss: 0.8548\n",
            "Epoch 118/200\n",
            "1033/1033 [==============================] - 3s 3ms/step - loss: 0.8550\n",
            "Epoch 119/200\n",
            "1033/1033 [==============================] - 3s 3ms/step - loss: 0.8552\n",
            "Epoch 120/200\n",
            "1033/1033 [==============================] - 3s 3ms/step - loss: 0.8553\n",
            "Epoch 121/200\n",
            "1033/1033 [==============================] - 4s 4ms/step - loss: 0.8555\n",
            "Epoch 122/200\n",
            "1033/1033 [==============================] - 3s 3ms/step - loss: 0.8557\n",
            "Epoch 123/200\n",
            "1033/1033 [==============================] - 3s 3ms/step - loss: 0.8560\n",
            "Epoch 124/200\n",
            "1033/1033 [==============================] - 3s 3ms/step - loss: 0.8563\n",
            "Epoch 125/200\n",
            "1033/1033 [==============================] - 4s 4ms/step - loss: 0.8566\n",
            "Epoch 126/200\n",
            "1033/1033 [==============================] - 3s 3ms/step - loss: 0.8569\n",
            "Epoch 127/200\n",
            "1033/1033 [==============================] - 3s 3ms/step - loss: 0.8572\n",
            "Epoch 128/200\n",
            "1033/1033 [==============================] - 3s 3ms/step - loss: 0.8575\n",
            "Epoch 129/200\n",
            "1033/1033 [==============================] - 4s 4ms/step - loss: 0.8578\n",
            "Epoch 130/200\n",
            "1033/1033 [==============================] - 3s 3ms/step - loss: 0.8581\n",
            "Epoch 131/200\n",
            "1033/1033 [==============================] - 3s 3ms/step - loss: 0.8584\n",
            "Epoch 132/200\n",
            "1033/1033 [==============================] - 3s 3ms/step - loss: 0.8588\n",
            "Epoch 133/200\n",
            "1033/1033 [==============================] - 4s 4ms/step - loss: 0.8592\n",
            "Epoch 134/200\n",
            "1033/1033 [==============================] - 4s 4ms/step - loss: 0.8596\n",
            "Epoch 135/200\n",
            "1033/1033 [==============================] - 4s 3ms/step - loss: 0.8600\n",
            "Epoch 136/200\n",
            "1033/1033 [==============================] - 4s 3ms/step - loss: 0.8604\n",
            "Epoch 137/200\n",
            "1033/1033 [==============================] - 4s 4ms/step - loss: 0.8608\n",
            "Epoch 138/200\n",
            "1033/1033 [==============================] - 3s 3ms/step - loss: 0.8611\n",
            "Epoch 139/200\n",
            "1033/1033 [==============================] - 3s 3ms/step - loss: 0.8615\n",
            "Epoch 140/200\n",
            "1033/1033 [==============================] - 4s 4ms/step - loss: 0.8619\n",
            "Epoch 141/200\n",
            "1033/1033 [==============================] - 3s 3ms/step - loss: 0.8624\n",
            "Epoch 142/200\n",
            "1033/1033 [==============================] - 3s 3ms/step - loss: 0.8629\n",
            "Epoch 143/200\n",
            "1033/1033 [==============================] - 3s 3ms/step - loss: 0.8634\n",
            "Epoch 144/200\n",
            "1033/1033 [==============================] - 4s 4ms/step - loss: 0.8639\n",
            "Epoch 145/200\n",
            "1033/1033 [==============================] - 3s 3ms/step - loss: 0.8644\n",
            "Epoch 146/200\n",
            "1033/1033 [==============================] - 3s 3ms/step - loss: 0.8648\n",
            "Epoch 147/200\n",
            "1033/1033 [==============================] - 3s 3ms/step - loss: 0.8653\n",
            "Epoch 148/200\n",
            "1033/1033 [==============================] - 4s 4ms/step - loss: 0.8658\n",
            "Epoch 149/200\n",
            "1033/1033 [==============================] - 3s 3ms/step - loss: 0.8663\n",
            "Epoch 150/200\n",
            "1033/1033 [==============================] - 3s 3ms/step - loss: 0.8668\n",
            "Epoch 151/200\n",
            "1033/1033 [==============================] - 3s 3ms/step - loss: 0.8674\n",
            "Epoch 152/200\n",
            "1033/1033 [==============================] - 4s 4ms/step - loss: 0.8680\n",
            "Epoch 153/200\n",
            "1033/1033 [==============================] - 3s 3ms/step - loss: 0.8686\n",
            "Epoch 154/200\n",
            "1033/1033 [==============================] - 3s 3ms/step - loss: 0.8691\n",
            "Epoch 155/200\n",
            "1033/1033 [==============================] - 3s 3ms/step - loss: 0.8696\n",
            "Epoch 156/200\n",
            "1033/1033 [==============================] - 4s 4ms/step - loss: 0.8701\n",
            "Epoch 157/200\n",
            "1033/1033 [==============================] - 3s 3ms/step - loss: 0.8705\n",
            "Epoch 158/200\n",
            "1033/1033 [==============================] - 3s 3ms/step - loss: 0.8709\n",
            "Epoch 159/200\n",
            "1033/1033 [==============================] - 3s 3ms/step - loss: 0.8713\n",
            "Epoch 160/200\n",
            "1033/1033 [==============================] - 4s 4ms/step - loss: 0.8717\n",
            "Epoch 161/200\n",
            "1033/1033 [==============================] - 3s 3ms/step - loss: 0.8722\n",
            "Epoch 162/200\n",
            "1033/1033 [==============================] - 3s 3ms/step - loss: 0.8726\n",
            "Epoch 163/200\n",
            "1033/1033 [==============================] - 4s 4ms/step - loss: 0.8731\n",
            "Epoch 164/200\n",
            "1033/1033 [==============================] - 4s 4ms/step - loss: 0.8735\n",
            "Epoch 165/200\n",
            "1033/1033 [==============================] - 3s 3ms/step - loss: 0.8740\n",
            "Epoch 166/200\n",
            "1033/1033 [==============================] - 3s 3ms/step - loss: 0.8745\n",
            "Epoch 167/200\n",
            "1033/1033 [==============================] - 4s 4ms/step - loss: 0.8750\n",
            "Epoch 168/200\n",
            "1033/1033 [==============================] - 3s 3ms/step - loss: 0.8755\n",
            "Epoch 169/200\n",
            "1033/1033 [==============================] - 3s 3ms/step - loss: 0.8762\n",
            "Epoch 170/200\n",
            "1033/1033 [==============================] - 3s 3ms/step - loss: 0.8768\n",
            "Epoch 171/200\n",
            "1033/1033 [==============================] - 4s 4ms/step - loss: 0.8774\n",
            "Epoch 172/200\n",
            "1033/1033 [==============================] - 3s 3ms/step - loss: 0.8781\n",
            "Epoch 173/200\n",
            "1033/1033 [==============================] - 3s 3ms/step - loss: 0.8787\n",
            "Epoch 174/200\n",
            "1033/1033 [==============================] - 3s 3ms/step - loss: 0.8793\n",
            "Epoch 175/200\n",
            "1033/1033 [==============================] - 4s 3ms/step - loss: 0.8798\n",
            "Epoch 176/200\n",
            "1033/1033 [==============================] - 3s 3ms/step - loss: 0.8804\n",
            "Epoch 177/200\n",
            "1033/1033 [==============================] - 3s 3ms/step - loss: 0.8810\n",
            "Epoch 178/200\n",
            "1033/1033 [==============================] - 4s 4ms/step - loss: 0.8816\n",
            "Epoch 179/200\n",
            "1033/1033 [==============================] - 3s 3ms/step - loss: 0.8822\n",
            "Epoch 180/200\n",
            "1033/1033 [==============================] - 4s 3ms/step - loss: 0.8829\n",
            "Epoch 181/200\n",
            "1033/1033 [==============================] - 3s 3ms/step - loss: 0.8835\n",
            "Epoch 182/200\n",
            "1033/1033 [==============================] - 4s 4ms/step - loss: 0.8841\n",
            "Epoch 183/200\n",
            "1033/1033 [==============================] - 3s 3ms/step - loss: 0.8848\n",
            "Epoch 184/200\n",
            "1033/1033 [==============================] - 3s 3ms/step - loss: 0.8855\n",
            "Epoch 185/200\n",
            "1033/1033 [==============================] - 4s 4ms/step - loss: 0.8862\n",
            "Epoch 186/200\n",
            "1033/1033 [==============================] - 4s 4ms/step - loss: 0.8869\n",
            "Epoch 187/200\n",
            "1033/1033 [==============================] - 4s 4ms/step - loss: 0.8877\n",
            "Epoch 188/200\n",
            "1033/1033 [==============================] - 3s 3ms/step - loss: 0.8886\n",
            "Epoch 189/200\n",
            "1033/1033 [==============================] - 4s 4ms/step - loss: 0.8896\n",
            "Epoch 190/200\n",
            "1033/1033 [==============================] - 4s 4ms/step - loss: 0.8906\n",
            "Epoch 191/200\n",
            "1033/1033 [==============================] - 3s 3ms/step - loss: 0.8915\n",
            "Epoch 192/200\n",
            "1033/1033 [==============================] - 3s 3ms/step - loss: 0.8925\n",
            "Epoch 193/200\n",
            "1033/1033 [==============================] - 4s 4ms/step - loss: 0.8934\n",
            "Epoch 194/200\n",
            "1033/1033 [==============================] - 3s 3ms/step - loss: 0.8944\n",
            "Epoch 195/200\n",
            "1033/1033 [==============================] - 4s 3ms/step - loss: 0.8953\n",
            "Epoch 196/200\n",
            "1033/1033 [==============================] - 3s 3ms/step - loss: 0.8962\n",
            "Epoch 197/200\n",
            "1033/1033 [==============================] - 4s 3ms/step - loss: 0.8970\n",
            "Epoch 198/200\n",
            "1033/1033 [==============================] - 3s 3ms/step - loss: 0.8979\n",
            "Epoch 199/200\n",
            "1033/1033 [==============================] - 3s 3ms/step - loss: 0.8987\n",
            "Epoch 200/200\n",
            "1033/1033 [==============================] - 3s 3ms/step - loss: 0.8996\n"
          ]
        }
      ]
    },
    {
      "cell_type": "markdown",
      "source": [
        "Finally, we can observe that the loss value has dropped exponentially over time over the 100-epoch training procedure, reaching a value of 0.8996.\n"
      ],
      "metadata": {
        "id": "6yHasIYDTYpJ"
      }
    },
    {
      "cell_type": "markdown",
      "source": [
        "##Step 11: Making the LSTM Prediction"
      ],
      "metadata": {
        "id": "ORK7CCOzTOcG"
      }
    },
    {
      "cell_type": "code",
      "source": [
        "#LSTM Prediction\n",
        "y_pred= lstm.predict(X_test)"
      ],
      "metadata": {
        "colab": {
          "base_uri": "https://localhost:8080/"
        },
        "id": "ttlqXivNTQ6f",
        "outputId": "5e8812a1-7fd4-4eb0-f96b-e0192e553573"
      },
      "execution_count": 25,
      "outputs": [
        {
          "output_type": "stream",
          "name": "stdout",
          "text": [
            "26/26 [==============================] - 0s 2ms/step\n"
          ]
        }
      ]
    },
    {
      "cell_type": "markdown",
      "source": [],
      "metadata": {
        "id": "AEVOQjb0OnVM"
      }
    },
    {
      "cell_type": "markdown",
      "source": [
        "##Step 12: Comparing Predicted vs True Adjusted Close Value – LSTM\n",
        "Finally, now that we’ve projected the values for the test set, we can display the graph to compare both Adj Close’s true values and Adj Close’s predicted value using the LSTM Machine Learning model."
      ],
      "metadata": {
        "id": "vvLYd4SxSwPC"
      }
    },
    {
      "cell_type": "code",
      "source": [
        "#Predicted vs True Adj Close Value – LSTM\n",
        "plt.plot(y_test, label='True Value')\n",
        "plt.plot(y_pred, label='LSTM Value')\n",
        "plt.title(\"Prediction by LSTM\")\n",
        "plt.xlabel('Time Scale')\n",
        "plt.ylabel('Scaled USD')\n",
        "plt.legend()\n",
        "plt.show()"
      ],
      "metadata": {
        "colab": {
          "base_uri": "https://localhost:8080/",
          "height": 472
        },
        "id": "IzrA62TAOjVw",
        "outputId": "545e8e14-de27-464d-fc96-e77a1a916203"
      },
      "execution_count": 26,
      "outputs": [
        {
          "output_type": "display_data",
          "data": {
            "text/plain": [
              "<Figure size 640x480 with 1 Axes>"
            ],
            "image/png": "[encoded data removed]"
          },
          "metadata": {}
        }
      ]
    },
    {
      "cell_type": "markdown",
      "source": [
        "The graph above demonstrates that the extremely basic single LSTM network model created above detects some patterns. We may get a more accurate depiction of every specific company’s stock value by fine-tuning many parameters and adding more LSTM layers to the model."
      ],
      "metadata": {
        "id": "9KaYrD9kTidx"
      }
    },
    {
      "cell_type": "markdown",
      "source": [
        "##Conclusion"
      ],
      "metadata": {
        "id": "cgxSdusCTobh"
      }
    },
    {
      "cell_type": "markdown",
      "source": [
        "However, with the introduction of Machine Learning and its strong algorithms, the most recent market research and Stock Price Prediction using machine learning advancements have begun to include such approaches in analyzing stock market data. The Opening Value of the stock, the Highest and Lowest values of that stock on the same day, as well as the Closing Value at the end of the day are all indicated for each date. Furthermore, the total volume of the stocks in the market is provided; with this information, it is up to the job of a Machine Learning Data Scientist to look at the data and develop different algorithms that may help in finding appropriate stocks values.\n",
        "\n",
        "Predicting the stock market was a time-consuming and laborious procedure a few years or even a decade ago. However, with the application of machine learning for stock market forecasts, the procedure has become much simpler. Machine learning not only saves time and resources but also outperforms people in terms of performance. it will always prefer to use a trained computer algorithm since it will advise you based only on facts, numbers, and data and will not factor in emotions or prejudice. It would be interesting to incorporate sentiment analysis on news & social media regarding the stock market in general, as well as a given stock of interest.\n",
        "\n",
        "##Key Takeaways\n",
        "\n",
        "- Stock Price Prediction using machine learning helps in discovering the future values of a company’s stocks and other assets.\n",
        "- Predicting stock prices helps in gaining significant profits."
      ],
      "metadata": {
        "id": "CYuibCPwT7ab"
      }
    }
  ]
}